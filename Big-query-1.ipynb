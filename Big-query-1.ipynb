{
  "cells": [
    {
      "metadata": {
        "_uuid": "8f2839f25d086af736a60e9eeb907d3b93b6e0e5",
        "_cell_guid": "b1076dfc-b9ad-4769-8c92-a6c4dae69d19",
        "trusted": true
      },
      "cell_type": "code",
      "source": "# This Python 3 environment comes with many helpful analytics libraries installed\n# It is defined by the kaggle/python docker image: https://github.com/kaggle/docker-python\n# For example, here's several helpful packages to load in \n\nimport numpy as np # linear algebra\nimport pandas as pd # data processing, CSV file I/O (e.g. pd.read_csv)\n\n# Input data files are available in the \"../input/\" directory.\n# For example, running this (by clicking run or pressing Shift+Enter) will list the files in the input directory\n\nimport os\nprint(os.listdir(\"../input\"))\n\n# Any results you write to the current directory are saved as output.",
      "execution_count": 17,
      "outputs": [
        {
          "output_type": "stream",
          "text": "[]\n",
          "name": "stdout"
        }
      ]
    },
    {
      "metadata": {
        "_cell_guid": "79c7e3d0-c299-4dcb-8224-4455121ee9b0",
        "_uuid": "d629ff2d2480ee46fbb7e2d37f6b5fab8052498a",
        "trusted": true
      },
      "cell_type": "code",
      "source": "import bq_helper",
      "execution_count": 18,
      "outputs": []
    },
    {
      "metadata": {
        "_kg_hide-output": true,
        "trusted": true,
        "_uuid": "a03309d124d0162729cb46d90d730b56564cc564"
      },
      "cell_type": "code",
      "source": "# create a helper object for our bigquery dataset\nhacker_news = bq_helper.BigQueryHelper(active_project= \"bigquery-public-data\", dataset_name = \"hacker_news\")",
      "execution_count": 19,
      "outputs": []
    },
    {
      "metadata": {
        "trusted": true,
        "scrolled": true,
        "_uuid": "9cabc8605d9fefef4d1ced597340c293b3ee8d4e"
      },
      "cell_type": "code",
      "source": "# print a list of all the tables in the hacker_news dataset\nhacker_news.list_tables()",
      "execution_count": 20,
      "outputs": [
        {
          "output_type": "execute_result",
          "execution_count": 20,
          "data": {
            "text/plain": "['comments', 'full', 'full_201510', 'stories']"
          },
          "metadata": {}
        }
      ]
    },
    {
      "metadata": {
        "trusted": true,
        "_uuid": "54e2c7123d7c2da3928ec0ddd5a784d91ae725ba"
      },
      "cell_type": "code",
      "source": "# print information on all the columns in the \"full\" table\n# in the hacker_news dataset\nhacker_news.table_schema(\"full\")",
      "execution_count": 21,
      "outputs": [
        {
          "output_type": "execute_result",
          "execution_count": 21,
          "data": {
            "text/plain": "           name                        ...                                                                description\n0            by                        ...                                         The username of the item's author.\n1         score                        ...                                                                Story score\n2          time                        ...                                                                  Unix time\n3     timestamp                        ...                                                Timestamp for the unix time\n4         title                        ...                                                                Story title\n5          type                        ...                          Type of details (comment, comment_ranking, pol...\n6           url                        ...                                                                  Story url\n7          text                        ...                                                      Story or comment text\n8        parent                        ...                                                          Parent comment ID\n9       deleted                        ...                                                                Is deleted?\n10         dead                        ...                                                                   Is dead?\n11  descendants                        ...                                        Number of story or poll descendants\n12           id                        ...                                                      The item's unique id.\n13      ranking                        ...                                                            Comment ranking\n\n[14 rows x 4 columns]",
            "text/html": "<div>\n<style scoped>\n    .dataframe tbody tr th:only-of-type {\n        vertical-align: middle;\n    }\n\n    .dataframe tbody tr th {\n        vertical-align: top;\n    }\n\n    .dataframe thead th {\n        text-align: right;\n    }\n</style>\n<table border=\"1\" class=\"dataframe\">\n  <thead>\n    <tr style=\"text-align: right;\">\n      <th></th>\n      <th>name</th>\n      <th>type</th>\n      <th>mode</th>\n      <th>description</th>\n    </tr>\n  </thead>\n  <tbody>\n    <tr>\n      <th>0</th>\n      <td>by</td>\n      <td>STRING</td>\n      <td>NULLABLE</td>\n      <td>The username of the item's author.</td>\n    </tr>\n    <tr>\n      <th>1</th>\n      <td>score</td>\n      <td>INTEGER</td>\n      <td>NULLABLE</td>\n      <td>Story score</td>\n    </tr>\n    <tr>\n      <th>2</th>\n      <td>time</td>\n      <td>INTEGER</td>\n      <td>NULLABLE</td>\n      <td>Unix time</td>\n    </tr>\n    <tr>\n      <th>3</th>\n      <td>timestamp</td>\n      <td>TIMESTAMP</td>\n      <td>NULLABLE</td>\n      <td>Timestamp for the unix time</td>\n    </tr>\n    <tr>\n      <th>4</th>\n      <td>title</td>\n      <td>STRING</td>\n      <td>NULLABLE</td>\n      <td>Story title</td>\n    </tr>\n    <tr>\n      <th>5</th>\n      <td>type</td>\n      <td>STRING</td>\n      <td>NULLABLE</td>\n      <td>Type of details (comment, comment_ranking, pol...</td>\n    </tr>\n    <tr>\n      <th>6</th>\n      <td>url</td>\n      <td>STRING</td>\n      <td>NULLABLE</td>\n      <td>Story url</td>\n    </tr>\n    <tr>\n      <th>7</th>\n      <td>text</td>\n      <td>STRING</td>\n      <td>NULLABLE</td>\n      <td>Story or comment text</td>\n    </tr>\n    <tr>\n      <th>8</th>\n      <td>parent</td>\n      <td>INTEGER</td>\n      <td>NULLABLE</td>\n      <td>Parent comment ID</td>\n    </tr>\n    <tr>\n      <th>9</th>\n      <td>deleted</td>\n      <td>BOOLEAN</td>\n      <td>NULLABLE</td>\n      <td>Is deleted?</td>\n    </tr>\n    <tr>\n      <th>10</th>\n      <td>dead</td>\n      <td>BOOLEAN</td>\n      <td>NULLABLE</td>\n      <td>Is dead?</td>\n    </tr>\n    <tr>\n      <th>11</th>\n      <td>descendants</td>\n      <td>INTEGER</td>\n      <td>NULLABLE</td>\n      <td>Number of story or poll descendants</td>\n    </tr>\n    <tr>\n      <th>12</th>\n      <td>id</td>\n      <td>INTEGER</td>\n      <td>NULLABLE</td>\n      <td>The item's unique id.</td>\n    </tr>\n    <tr>\n      <th>13</th>\n      <td>ranking</td>\n      <td>INTEGER</td>\n      <td>NULLABLE</td>\n      <td>Comment ranking</td>\n    </tr>\n  </tbody>\n</table>\n</div>"
          },
          "metadata": {}
        }
      ]
    },
    {
      "metadata": {
        "trusted": true,
        "_uuid": "cb52b0a0ef178a6af9817ce3b04c7f1428be09e3"
      },
      "cell_type": "code",
      "source": "# preview the first couple lines of the \"full\" table\nhacker_news.head(\"full\")",
      "execution_count": 22,
      "outputs": [
        {
          "output_type": "execute_result",
          "execution_count": 22,
          "data": {
            "text/plain": "            by score        time   ...   descendants        id ranking\n0  user5994461  None  1489944124   ...          None  13908369    None\n1    angersock  None  1456372120   ...          None  11172250    None\n2        md2be  None  1516292547   ...          None  16178282    None\n3       radley  None  1214947811   ...          None    233562    None\n4      pmontra  None  1480694180   ...          None  13089613    None\n\n[5 rows x 14 columns]",
            "text/html": "<div>\n<style scoped>\n    .dataframe tbody tr th:only-of-type {\n        vertical-align: middle;\n    }\n\n    .dataframe tbody tr th {\n        vertical-align: top;\n    }\n\n    .dataframe thead th {\n        text-align: right;\n    }\n</style>\n<table border=\"1\" class=\"dataframe\">\n  <thead>\n    <tr style=\"text-align: right;\">\n      <th></th>\n      <th>by</th>\n      <th>score</th>\n      <th>time</th>\n      <th>timestamp</th>\n      <th>title</th>\n      <th>type</th>\n      <th>url</th>\n      <th>text</th>\n      <th>parent</th>\n      <th>deleted</th>\n      <th>dead</th>\n      <th>descendants</th>\n      <th>id</th>\n      <th>ranking</th>\n    </tr>\n  </thead>\n  <tbody>\n    <tr>\n      <th>0</th>\n      <td>user5994461</td>\n      <td>None</td>\n      <td>1489944124</td>\n      <td>2017-03-19 17:22:04+00:00</td>\n      <td></td>\n      <td>comment</td>\n      <td></td>\n      <td>&amp;gt; I don&amp;#x27;t know if this is still an are...</td>\n      <td>13907740</td>\n      <td>None</td>\n      <td>None</td>\n      <td>None</td>\n      <td>13908369</td>\n      <td>None</td>\n    </tr>\n    <tr>\n      <th>1</th>\n      <td>angersock</td>\n      <td>None</td>\n      <td>1456372120</td>\n      <td>2016-02-25 03:48:40+00:00</td>\n      <td></td>\n      <td>comment</td>\n      <td></td>\n      <td>I respectfully disagree that it is a petty sma...</td>\n      <td>11171029</td>\n      <td>None</td>\n      <td>None</td>\n      <td>None</td>\n      <td>11172250</td>\n      <td>None</td>\n    </tr>\n    <tr>\n      <th>2</th>\n      <td>md2be</td>\n      <td>None</td>\n      <td>1516292547</td>\n      <td>2018-01-18 16:22:27+00:00</td>\n      <td></td>\n      <td>comment</td>\n      <td></td>\n      <td>Imagine if Amazon single handedly turned  Stat...</td>\n      <td>16177113</td>\n      <td>None</td>\n      <td>None</td>\n      <td>None</td>\n      <td>16178282</td>\n      <td>None</td>\n    </tr>\n    <tr>\n      <th>3</th>\n      <td>radley</td>\n      <td>None</td>\n      <td>1214947811</td>\n      <td>2008-07-01 21:30:11+00:00</td>\n      <td></td>\n      <td>comment</td>\n      <td></td>\n      <td>&lt;a href=\"http://www.strombergschickens.com/pro...</td>\n      <td>233163</td>\n      <td>None</td>\n      <td>None</td>\n      <td>None</td>\n      <td>233562</td>\n      <td>None</td>\n    </tr>\n    <tr>\n      <th>4</th>\n      <td>pmontra</td>\n      <td>None</td>\n      <td>1480694180</td>\n      <td>2016-12-02 15:56:20+00:00</td>\n      <td></td>\n      <td>comment</td>\n      <td></td>\n      <td>No because it&amp;#x27;s statically typed, too muc...</td>\n      <td>13088709</td>\n      <td>None</td>\n      <td>None</td>\n      <td>None</td>\n      <td>13089613</td>\n      <td>None</td>\n    </tr>\n  </tbody>\n</table>\n</div>"
          },
          "metadata": {}
        }
      ]
    },
    {
      "metadata": {
        "trusted": true,
        "_uuid": "b36893492749350762988e6f2d9cc33526cea9cb"
      },
      "cell_type": "code",
      "source": "# preview the first ten entries in the by column of the full table\nhacker_news.head(\"full\", selected_columns=\"by\", num_rows=10)",
      "execution_count": 23,
      "outputs": [
        {
          "output_type": "execute_result",
          "execution_count": 23,
          "data": {
            "text/plain": "                by\n0      user5994461\n1        angersock\n2            md2be\n3           radley\n4          pmontra\n5             dmix\n6   Already__Taken\n7            danso\n8            meric\n9  offyourfacelook",
            "text/html": "<div>\n<style scoped>\n    .dataframe tbody tr th:only-of-type {\n        vertical-align: middle;\n    }\n\n    .dataframe tbody tr th {\n        vertical-align: top;\n    }\n\n    .dataframe thead th {\n        text-align: right;\n    }\n</style>\n<table border=\"1\" class=\"dataframe\">\n  <thead>\n    <tr style=\"text-align: right;\">\n      <th></th>\n      <th>by</th>\n    </tr>\n  </thead>\n  <tbody>\n    <tr>\n      <th>0</th>\n      <td>user5994461</td>\n    </tr>\n    <tr>\n      <th>1</th>\n      <td>angersock</td>\n    </tr>\n    <tr>\n      <th>2</th>\n      <td>md2be</td>\n    </tr>\n    <tr>\n      <th>3</th>\n      <td>radley</td>\n    </tr>\n    <tr>\n      <th>4</th>\n      <td>pmontra</td>\n    </tr>\n    <tr>\n      <th>5</th>\n      <td>dmix</td>\n    </tr>\n    <tr>\n      <th>6</th>\n      <td>Already__Taken</td>\n    </tr>\n    <tr>\n      <th>7</th>\n      <td>danso</td>\n    </tr>\n    <tr>\n      <th>8</th>\n      <td>meric</td>\n    </tr>\n    <tr>\n      <th>9</th>\n      <td>offyourfacelook</td>\n    </tr>\n  </tbody>\n</table>\n</div>"
          },
          "metadata": {}
        }
      ]
    },
    {
      "metadata": {
        "trusted": true,
        "_uuid": "0fb30259a867370e9b07bb6ee4249ed5298940f2"
      },
      "cell_type": "code",
      "source": "# this query looks in the full table in the hacker_news\n# dataset, then gets the score column from every row where \n# the type column has \"job\" in it.\nquery = \"\"\"SELECT score \n            FROM `bigquery-public-data.hacker_news.full`\n            WHERE type = \"job\" \"\"\"\n# check how big this query will be\nhacker_news.estimate_query_size(query)",
      "execution_count": 24,
      "outputs": [
        {
          "output_type": "execute_result",
          "execution_count": 24,
          "data": {
            "text/plain": "0.16643008776009083"
          },
          "metadata": {}
        }
      ]
    },
    {
      "metadata": {
        "trusted": true,
        "_uuid": "3ac88e6e27edc6d7ce14a81d0899833a04cfb5cc"
      },
      "cell_type": "code",
      "source": "# only run this query if it's less than 100 MB\nhacker_news.query_to_pandas_safe(query, max_gb_scanned=0.1)",
      "execution_count": 25,
      "outputs": [
        {
          "output_type": "stream",
          "text": "Query cancelled; estimated size of 0.16643008776009083 exceeds limit of 0.1 GB\n",
          "name": "stdout"
        }
      ]
    },
    {
      "metadata": {
        "trusted": true,
        "_uuid": "8f93c32e2ea6bd888a16800ae29cb1baa1451dc2"
      },
      "cell_type": "code",
      "source": "# check out the scores of job postings (if the \n# query is smaller than 1 gig)\njob_post_scores = hacker_news.query_to_pandas_safe(query)",
      "execution_count": 26,
      "outputs": []
    },
    {
      "metadata": {
        "trusted": true,
        "_uuid": "f634ee7bbfd266bf64b2b6bb12c5d99be7b7ecf4"
      },
      "cell_type": "code",
      "source": "# average score for job posts\njob_post_scores.score.mean()",
      "execution_count": 27,
      "outputs": [
        {
          "output_type": "execute_result",
          "execution_count": 27,
          "data": {
            "text/plain": "2.0499620781190746"
          },
          "metadata": {}
        }
      ]
    },
    {
      "metadata": {
        "trusted": true,
        "_uuid": "71c556c2f0e280e64f14759f966f46c6797e3213"
      },
      "cell_type": "code",
      "source": "job_post_scores.score.isna().sum()",
      "execution_count": 28,
      "outputs": [
        {
          "output_type": "execute_result",
          "execution_count": 28,
          "data": {
            "text/plain": "540"
          },
          "metadata": {}
        }
      ]
    },
    {
      "metadata": {
        "_kg_hide-output": false,
        "_kg_hide-input": false,
        "trusted": true,
        "_uuid": "8fff61b0d07410a74f7158f05335548c084a1e8c"
      },
      "cell_type": "code",
      "source": "# save our dataframe as a .csv \njob_post_scores.to_csv(\"job_post_scores.csv\")",
      "execution_count": 29,
      "outputs": []
    },
    {
      "metadata": {
        "trusted": true,
        "_uuid": "05f69461a34419412585be12f90872c04dfb0b79"
      },
      "cell_type": "code",
      "source": "",
      "execution_count": null,
      "outputs": []
    },
    {
      "metadata": {
        "trusted": true,
        "_uuid": "0f3e713741c2466df4f54b2677009a9b53fe295d"
      },
      "cell_type": "code",
      "source": "",
      "execution_count": null,
      "outputs": []
    }
  ],
  "metadata": {
    "kernelspec": {
      "display_name": "Python 3",
      "language": "python",
      "name": "python3"
    },
    "language_info": {
      "name": "python",
      "version": "3.6.6",
      "mimetype": "text/x-python",
      "codemirror_mode": {
        "name": "ipython",
        "version": 3
      },
      "pygments_lexer": "ipython3",
      "nbconvert_exporter": "python",
      "file_extension": ".py"
    }
  },
  "nbformat": 4,
  "nbformat_minor": 1
}